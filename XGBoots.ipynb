{
 "cells": [
  {
   "cell_type": "code",
   "id": "initial_id",
   "metadata": {
    "collapsed": true,
    "ExecuteTime": {
     "end_time": "2025-10-03T10:34:27.332148Z",
     "start_time": "2025-10-03T10:34:27.255651Z"
    }
   },
   "source": [
    "# Oil Price Prediction - Model Deployment\n",
    "# In this lab, we will deploy the best performing machine learning model\n",
    "# to predict oil prices based on historical data and engineered features.\n",
    "# We will use the dataset_11_86.csv dataset containing oil price data from 2012-2024.\n",
    "\n",
    "# Import the necessary libraries\n",
    "import pandas as pd\n",
    "import numpy as np\n",
    "from sklearn.model_selection import train_test_split, GridSearchCV\n",
    "from catboost import CatBoostRegressor\n",
    "from sklearn.metrics import mean_absolute_error, mean_squared_error, r2_score\n",
    "import matplotlib.pyplot as plt\n",
    "import seaborn as sns\n",
    "import joblib\n",
    "import warnings\n",
    "warnings.filterwarnings('ignore')\n",
    "\n",
    "# Load the dataset\n",
    "df = pd.read_csv('dataset_11_86.csv')\n",
    "\n",
    "print(\"Dataset loaded successfully!\")\n",
    "print(f\"Dataset shape: {df.shape}\")\n",
    "print(f\"Columns: {list(df.columns)}\")\n",
    "print(\"\\nFirst 5 rows:\")\n",
    "print(df.head())\n",
    "\n",
    "# Display descriptive statistics\n",
    "print(\"\\nDataset Info:\")\n",
    "print(df.info())\n",
    "print(\"\\nDescriptive Statistics:\")\n",
    "print(df.describe())"
   ],
   "outputs": [
    {
     "name": "stdout",
     "output_type": "stream",
     "text": [
      "Dataset loaded successfully!\n",
      "Dataset shape: (26746, 7)\n",
      "Columns: ['Year', 'Month', 'Date', 'Item', 'Country', 'Price(Baht)', 'UNIT']\n",
      "\n",
      "First 5 rows:\n",
      "   Year    Month  Date         Item                          Country  \\\n",
      "0  2012  January    20    1033G-E10                      TH-THAILAND   \n",
      "1  2012  January    20  1034-ULG 95                       BE-BELGIUM   \n",
      "2  2012  January    20  1034-ULG 95  DE-GERAMANY,FEDERAL REPUBLIC OF   \n",
      "3  2012  January    20  1034-ULG 95                        FR-FRANCE   \n",
      "4  2012  January    20  1034-ULG 95                GB-UNITED KINGDOM   \n",
      "\n",
      "   Price(Baht)        UNIT  \n",
      "0    37.260000  BAHT/LITRE  \n",
      "1    67.845196  BAHT/LITRE  \n",
      "2    64.166842  BAHT/LITRE  \n",
      "3    66.619078  BAHT/LITRE  \n",
      "4    67.027784  BAHT/LITRE  \n",
      "\n",
      "Dataset Info:\n",
      "<class 'pandas.core.frame.DataFrame'>\n",
      "RangeIndex: 26746 entries, 0 to 26745\n",
      "Data columns (total 7 columns):\n",
      " #   Column       Non-Null Count  Dtype  \n",
      "---  ------       --------------  -----  \n",
      " 0   Year         26746 non-null  int64  \n",
      " 1   Month        26746 non-null  object \n",
      " 2   Date         26746 non-null  int64  \n",
      " 3   Item         26746 non-null  object \n",
      " 4   Country      26746 non-null  object \n",
      " 5   Price(Baht)  26746 non-null  float64\n",
      " 6   UNIT         26746 non-null  object \n",
      "dtypes: float64(1), int64(2), object(4)\n",
      "memory usage: 1.4+ MB\n",
      "None\n",
      "\n",
      "Descriptive Statistics:\n",
      "               Year          Date   Price(Baht)\n",
      "count  26746.000000  26746.000000  26746.000000\n",
      "mean    2019.816870     17.150004     40.895261\n",
      "std        3.153475      9.166416     30.604638\n",
      "min     2012.000000      1.000000      0.040464\n",
      "25%     2017.000000      9.000000     28.362605\n",
      "50%     2020.000000     18.000000     38.048144\n",
      "75%     2022.000000     26.000000     51.832104\n",
      "max     2025.000000     31.000000   4082.506800\n"
     ]
    }
   ],
   "execution_count": 69
  },
  {
   "cell_type": "markdown",
   "id": "c975d61a528f7898",
   "metadata": {},
   "source": [
    "Part 0 — Setup & สมมติฐานคอลัมน์"
   ]
  },
  {
   "cell_type": "code",
   "id": "8302b0586eac7017",
   "metadata": {
    "ExecuteTime": {
     "end_time": "2025-10-03T10:34:27.460140Z",
     "start_time": "2025-10-03T10:34:27.454132Z"
    }
   },
   "source": [
    "import pandas as pd\n",
    "import numpy as np\n",
    "\n",
    "# สมมติ df เดิมมีคอลัมน์:\n",
    "# 'Year' (int), 'Month' (เช่น 'January'), 'Item' (ชนิดน้ำมัน), 'Country', 'Price(Baht)'\n",
    "assert {\"Year\",\"Month\",\"Item\",\"Country\",\"Price(Baht)\"} <= set(df.columns), \"ตรวจคอลัมน์ใน df อีกครั้ง\"\n"
   ],
   "outputs": [],
   "execution_count": 70
  },
  {
   "cell_type": "markdown",
   "id": "a89c7b0de00b1f52",
   "metadata": {},
   "source": [
    "Part 1 — แปลงเดือนเป็นตัวเลข + สร้างคอลัมน์วันที่ (กันพลาดตอน split ตามเวลา)"
   ]
  },
  {
   "cell_type": "code",
   "id": "ca432a956da2f37c",
   "metadata": {
    "ExecuteTime": {
     "end_time": "2025-10-03T10:34:27.613216Z",
     "start_time": "2025-10-03T10:34:27.582360Z"
    }
   },
   "source": [
    "# Map ชื่อเดือน -> เลขเดือน\n",
    "month_mapping = {\n",
    "    'January':1,'February':2,'March':3,'April':4,'May':5,'June':6,\n",
    "    'July':7,'August':8,'September':9,'October':10,'November':11,'December':12\n",
    "}\n",
    "df = df.copy()\n",
    "df[\"Month_Numeric\"] = df[\"Month\"].map(month_mapping)\n",
    "\n",
    "# วันที่ตัวแทนรายเดือนเป็นวันแรกของเดือน เพื่อใช้ง่ายตอน time-based split\n",
    "df[\"Date\"] = pd.to_datetime({\n",
    "    \"year\": df[\"Year\"].astype(int),\n",
    "    \"month\": df[\"Month_Numeric\"].astype(int),\n",
    "    \"day\": 1\n",
    "})\n"
   ],
   "outputs": [],
   "execution_count": 71
  },
  {
   "cell_type": "markdown",
   "id": "8b9ab9684a73ecf3",
   "metadata": {},
   "source": [
    "Part 2 — รวมเป็นรายเดือน (Aggregate)"
   ]
  },
  {
   "cell_type": "code",
   "id": "d67af130ab288481",
   "metadata": {
    "ExecuteTime": {
     "end_time": "2025-10-03T10:34:27.782948Z",
     "start_time": "2025-10-03T10:34:27.754850Z"
    }
   },
   "source": [
    "monthly_data = (\n",
    "    df.groupby([\"Year\",\"Month_Numeric\",\"Date\",\"Item\",\"Country\"])[\"Price(Baht)\"]\n",
    "      .mean()\n",
    "      .reset_index()\n",
    "      .rename(columns={\"Price(Baht)\":\"Average_Price_Baht\"})\n",
    ")\n",
    "\n",
    "print(\"Countries:\", monthly_data[\"Country\"].nunique())\n",
    "print(\"Items    :\", monthly_data[\"Item\"].nunique())\n",
    "print(\"Shape    :\", monthly_data.shape)\n"
   ],
   "outputs": [
    {
     "name": "stdout",
     "output_type": "stream",
     "text": [
      "Countries: 25\n",
      "Items    : 3\n",
      "Shape    : (7443, 6)\n"
     ]
    }
   ],
   "execution_count": 72
  },
  {
   "cell_type": "markdown",
   "id": "f04d5c2c755ce1cd",
   "metadata": {},
   "source": [
    "Part 3 — จัดลำดับภายในกลุ่มสำหรับ Time Series"
   ]
  },
  {
   "cell_type": "code",
   "id": "a34e947fb50d915e",
   "metadata": {
    "ExecuteTime": {
     "end_time": "2025-10-03T10:34:27.922789Z",
     "start_time": "2025-10-03T10:34:27.911044Z"
    }
   },
   "source": [
    "all_countries_data = (\n",
    "    monthly_data\n",
    "    .sort_values([\"Country\",\"Item\",\"Year\",\"Month_Numeric\"])\n",
    "    .reset_index(drop=True)\n",
    ")\n",
    "print(\"Sorted shape:\", all_countries_data.shape)\n"
   ],
   "outputs": [
    {
     "name": "stdout",
     "output_type": "stream",
     "text": [
      "Sorted shape: (7443, 6)\n"
     ]
    }
   ],
   "execution_count": 73
  },
  {
   "cell_type": "markdown",
   "id": "3881ad97c2eccba3",
   "metadata": {},
   "source": [
    "Part 4 — ฟังก์ชันสร้างฟีเจอร์เวลา (lag + rolling ที่ใช้ข้อมูลอดีตเท่านั้น)"
   ]
  },
  {
   "cell_type": "code",
   "id": "a20bfe049237fc51",
   "metadata": {
    "ExecuteTime": {
     "end_time": "2025-10-03T10:34:28.064038Z",
     "start_time": "2025-10-03T10:34:28.057020Z"
    }
   },
   "source": [
    "def create_lag_features(df, group_cols, value_col, lags=(1,2,3,6,12)):\n",
    "    out = df.copy()\n",
    "    for lag in lags:\n",
    "        out[f\"{value_col}_lag_{lag}\"] = out.groupby(group_cols)[value_col].shift(lag)\n",
    "    return out\n",
    "\n",
    "def create_rolling_past_only(df, group_cols, value_col, windows=(3,6,12)):\n",
    "    \"\"\"\n",
    "    Rolling ที่ 'ไม่รั่วข้อมูลปัจจุบัน':\n",
    "    ใช้ค่าอดีตก่อนหน้า (shift(1)) แล้วค่อย rolling\n",
    "    \"\"\"\n",
    "    out = df.copy()\n",
    "    g = out.groupby(group_cols)[value_col]\n",
    "    past = g.shift(1)\n",
    "    for w in windows:\n",
    "        out[f\"{value_col}_rolling_{w}\"] = past.rolling(window=w, min_periods=1).mean()\n",
    "    return out\n"
   ],
   "outputs": [],
   "execution_count": 74
  },
  {
   "cell_type": "markdown",
   "id": "bc4a62f7113dc91b",
   "metadata": {},
   "source": [
    "Part 5 — ลงมือสร้างฟีเจอร์เวลา"
   ]
  },
  {
   "cell_type": "code",
   "id": "f6fa445543ad3a1",
   "metadata": {
    "ExecuteTime": {
     "end_time": "2025-10-03T10:34:28.222075Z",
     "start_time": "2025-10-03T10:34:28.191559Z"
    }
   },
   "source": [
    "features_base = create_lag_features(\n",
    "    all_countries_data, [\"Country\",\"Item\"], \"Average_Price_Baht\", lags=(1,2,3,6,12)\n",
    ")\n",
    "features_time = create_rolling_past_only(\n",
    "    features_base, [\"Country\",\"Item\"], \"Average_Price_Baht\", windows=(3,6,12)\n",
    ")\n",
    "\n",
    "print(\"After time features:\", features_time.shape)\n"
   ],
   "outputs": [
    {
     "name": "stdout",
     "output_type": "stream",
     "text": [
      "After time features: (7443, 14)\n"
     ]
    }
   ],
   "execution_count": 75
  },
  {
   "cell_type": "markdown",
   "id": "1eb3a046beddb438",
   "metadata": {},
   "source": [
    "Part 6 — One-Hot Encoding: Item & Country"
   ]
  },
  {
   "cell_type": "code",
   "id": "2e2f89a20e438762",
   "metadata": {
    "ExecuteTime": {
     "end_time": "2025-10-03T10:34:28.378266Z",
     "start_time": "2025-10-03T10:34:28.365951Z"
    }
   },
   "source": [
    "item_dum    = pd.get_dummies(features_time[\"Item\"],    prefix=\"Item\")\n",
    "country_dum = pd.get_dummies(features_time[\"Country\"], prefix=\"Country\")\n",
    "\n",
    "item_dum.index = features_time.index\n",
    "country_dum.index = features_time.index\n",
    "\n",
    "data_enc = pd.concat([features_time, item_dum, country_dum], axis=1)\n",
    "print(\"After encoding:\", data_enc.shape)\n"
   ],
   "outputs": [
    {
     "name": "stdout",
     "output_type": "stream",
     "text": [
      "After encoding: (7443, 42)\n"
     ]
    }
   ],
   "execution_count": 76
  },
  {
   "cell_type": "markdown",
   "id": "eaf04303e62da08b",
   "metadata": {},
   "source": [
    "Part 7 — ลบ Missing (จาก lag/rolling ช่วงต้น ๆ)"
   ]
  },
  {
   "cell_type": "code",
   "id": "e66b8a02ef3f911",
   "metadata": {
    "ExecuteTime": {
     "end_time": "2025-10-03T10:34:28.530444Z",
     "start_time": "2025-10-03T10:34:28.516417Z"
    }
   },
   "source": [
    "data_clean = data_enc.dropna().reset_index(drop=True)\n",
    "\n",
    "print(\"Cleaned shape:\", data_clean.shape)\n",
    "print(\"Total NaN left:\", int(data_clean.isna().sum().sum()))\n",
    "print(\"Dtypes count:\\n\", data_clean.dtypes.value_counts())\n"
   ],
   "outputs": [
    {
     "name": "stdout",
     "output_type": "stream",
     "text": [
      "Cleaned shape: (6831, 42)\n",
      "Total NaN left: 0\n",
      "Dtypes count:\n",
      " bool              28\n",
      "float64            9\n",
      "int64              2\n",
      "object             2\n",
      "datetime64[ns]     1\n",
      "Name: count, dtype: int64\n"
     ]
    }
   ],
   "execution_count": 77
  },
  {
   "cell_type": "markdown",
   "id": "e33523ae2651de39",
   "metadata": {},
   "source": [
    "Part 8 — สร้างชุดฟีเจอร์ (X) และเป้าหมาย (y)"
   ]
  },
  {
   "cell_type": "code",
   "id": "f538fd643b496f76",
   "metadata": {
    "ExecuteTime": {
     "end_time": "2025-10-03T10:34:28.678345Z",
     "start_time": "2025-10-03T10:34:28.668949Z"
    }
   },
   "source": [
    "target_col  = \"Average_Price_Baht\"\n",
    "exclude_cols = [\"Year\",\"Month_Numeric\",\"Date\",\"Item\",\"Country\",target_col]\n",
    "\n",
    "feature_cols = [c for c in data_clean.columns if c not in exclude_cols]\n",
    "X = data_clean[feature_cols]\n",
    "y = data_clean[target_col]\n",
    "\n",
    "if X.isnull().values.any():\n",
    "    na_cols = X.columns[X.isnull().any()].tolist()\n",
    "    print(\"WARNING: NaN in features:\", na_cols)\n",
    "if y.isnull().values.any():\n",
    "    print(\"WARNING: NaN in target:\", y.isnull().sum())\n",
    "\n",
    "print(\"Num features:\", len(feature_cols))\n"
   ],
   "outputs": [
    {
     "name": "stdout",
     "output_type": "stream",
     "text": [
      "Num features: 36\n"
     ]
    }
   ],
   "execution_count": 78
  },
  {
   "cell_type": "markdown",
   "id": "cbdb0d2e59452a13",
   "metadata": {},
   "source": [
    "Part 9 — Time-based Split ด้วย “เส้นตัดเวลาเดียวกัน” ข้ามทุกประเทศ"
   ]
  },
  {
   "cell_type": "code",
   "id": "edac6c66fce0911b",
   "metadata": {
    "ExecuteTime": {
     "end_time": "2025-10-03T10:34:28.815316Z",
     "start_time": "2025-10-03T10:34:28.799471Z"
    }
   },
   "source": [
    "# เส้นตัด = 80th percentile ของวันที่ (ทำให้เป็น time split จริงที่ใช้วันเดียวกันทั่วโลก)\n",
    "cutoff_date = data_clean[\"Date\"].quantile(0.80)\n",
    "train_mask  = data_clean[\"Date\"] <= cutoff_date\n",
    "test_mask   = data_clean[\"Date\"] >  cutoff_date\n",
    "\n",
    "X_train, y_train = X[train_mask], y[train_mask]\n",
    "X_test,  y_test  = X[test_mask],  y[test_mask]\n",
    "\n",
    "print(\"Cutoff date:\", cutoff_date.date())\n",
    "print(\"Train size :\", X_train.shape[0])\n",
    "print(\"Test size  :\", X_test.shape[0])\n"
   ],
   "outputs": [
    {
     "name": "stdout",
     "output_type": "stream",
     "text": [
      "Cutoff date: 2023-03-01\n",
      "Train size : 5483\n",
      "Test size  : 1348\n"
     ]
    }
   ],
   "execution_count": 79
  },
  {
   "cell_type": "markdown",
   "id": "663e68200122fcfd",
   "metadata": {},
   "source": [
    "Part 10 — ตรวจแจกแจงประเทศ/ฟีเจอร์ที่สร้าง"
   ]
  },
  {
   "cell_type": "code",
   "id": "89cc0b1bba9c9add",
   "metadata": {
    "ExecuteTime": {
     "end_time": "2025-10-03T10:34:28.972340Z",
     "start_time": "2025-10-03T10:34:28.960346Z"
    }
   },
   "source": [
    "print(\"\\nTop 10 countries in TRAIN:\")\n",
    "print(data_clean.loc[train_mask, \"Country\"].value_counts().head(10))\n",
    "\n",
    "print(\"\\nTop 10 countries in TEST:\")\n",
    "print(data_clean.loc[test_mask, \"Country\"].value_counts().head(10))\n",
    "\n",
    "print(\"\\nFeature groups:\")\n",
    "print(\"Lag     :\", [c for c in feature_cols if \"lag_\" in c])\n",
    "print(\"Rolling :\", [c for c in feature_cols if \"rolling_\" in c])\n",
    "print(\"Item    :\", [c for c in feature_cols if c.startswith(\"Item_\")])\n",
    "print(\"Country :\", [c for c in feature_cols if c.startswith(\"Country_\")])\n"
   ],
   "outputs": [
    {
     "name": "stdout",
     "output_type": "stream",
     "text": [
      "\n",
      "Top 10 countries in TRAIN:\n",
      "Country\n",
      "TH-THAILAND                        369\n",
      "BE-BELGIUM                         246\n",
      "FR-FRANCE                          246\n",
      "GB-UNITED KINGDOM                  246\n",
      "HK-HONG KONG                       246\n",
      "LA-LAOS,PEOPLE OF DEM.REP.OF       246\n",
      "ID-INDONESIA                       246\n",
      "DE-GERAMANY,FEDERAL REPUBLIC OF    246\n",
      "US-UNITED STATES OF AMERICA        246\n",
      "SG-SINGAPORE                       246\n",
      "Name: count, dtype: int64\n",
      "\n",
      "Top 10 countries in TEST:\n",
      "Country\n",
      "TH-THAILAND          84\n",
      "BE-BELGIUM           56\n",
      "BN-BRUNEI            56\n",
      "BR-BRAZIL            56\n",
      "FR-FRANCE            56\n",
      "HK-HONG KONG         56\n",
      "GB-UNITED KINGDOM    56\n",
      "ID-INDONESIA         56\n",
      "AU-AUSTRALIA         56\n",
      "MM-MYANMAR           56\n",
      "Name: count, dtype: int64\n",
      "\n",
      "Feature groups:\n",
      "Lag     : ['Average_Price_Baht_lag_1', 'Average_Price_Baht_lag_2', 'Average_Price_Baht_lag_3', 'Average_Price_Baht_lag_6', 'Average_Price_Baht_lag_12']\n",
      "Rolling : ['Average_Price_Baht_rolling_3', 'Average_Price_Baht_rolling_6', 'Average_Price_Baht_rolling_12']\n",
      "Item    : ['Item_1033G-E10', 'Item_1034-ULG 95', 'Item_1052-HSD (B7)']\n",
      "Country : ['Country_AU-AUSTRALIA', 'Country_BE-BELGIUM', 'Country_BN-BRUNEI', 'Country_BR-BRAZIL', 'Country_DE-GERAMANY,FEDERAL REPUBLIC OF', 'Country_DE-GERMANY,FEDERAL REPUBLIC OF', 'Country_FR-FRANCE', 'Country_GB-UNITED KINGDOM', 'Country_HK-HONG KONG', 'Country_ID-INDONESIA', 'Country_IN-INDIA', 'Country_IT-ITALY', 'Country_JP-JAPAN', 'Country_KH-KINGDOM OF CAMBODIA', 'Country_KR-KOREA, REPUBLIC OF', 'Country_LA-LAOS,PEOPLE OF DEM.REP.OF', 'Country_MM-MYANMAR', 'Country_MY-MALAYSIA', 'Country_NL-NETHERLANDS', 'Country_PH-PHILIPPINES', 'Country_RA-REPUBLIC OF SOUTH AFRICA', 'Country_SG-SINGAPORE', 'Country_TH-THAILAND', 'Country_US-UNITED STATES OF AMERICA', 'Country_VN-VIETNAM']\n"
     ]
    }
   ],
   "execution_count": 80
  },
  {
   "cell_type": "markdown",
   "id": "f3fe554a79cc6b1a",
   "metadata": {},
   "source": [
    "\n",
    "# XGBoost Regressor สำหรับพยากรณ์ราคาน้ำมันรายเดือน\n",
    " โค้ดชุดนี้สมมติว่าคุณมีตัวแปรจากขั้นตอน preprocessing แล้ว ได้แก่:\n",
    " - X_train, y_train, X_test, y_test    (train/test split แบบอิงเวลา)\n",
    " - feature_cols                         (รายชื่อคอลัมน์ฟีเจอร์)\n",
    "\n",
    " ไฮไลต์:\n",
    " - ใช้ XGBRegressor พร้อม early stopping\n",
    " - ตัวเลือก GPU: tree_method=\"gpu_hist\" (ถ้าติดตั้ง xgboost พร้อม CUDA)\n",
    " - มีเวอร์ชัน baseline + hyperparameter tuning (RandomizedSearchCV)\n",
    " - ประเมินผลด้วย MAE / RMSE / R^2 และกราฟวิเคราะห์\n"
   ]
  },
  {
   "cell_type": "code",
   "id": "2c6e2cc6966a56e2",
   "metadata": {
    "ExecuteTime": {
     "end_time": "2025-10-03T10:38:06.091927Z",
     "start_time": "2025-10-03T10:34:29.114506Z"
    }
   },
   "source": [
    "    # %% [markdown]\n",
    "# ## XGBoost Regressor with GridSearchCV + Evaluation\n",
    "# - ใช้ GridSearchCV สำหรับ hyperparameter tuning\n",
    "# - ประเมินผลด้วย MAE, RMSE, R²\n",
    "# - แสดง Feature Importance (gain)\n",
    "\n",
    "# %%\n",
    "import xgboost as xgb\n",
    "import numpy as np\n",
    "import pandas as pd\n",
    "from sklearn.metrics import mean_absolute_error, mean_squared_error, r2_score\n",
    "from xgboost import XGBRegressor\n",
    "from sklearn.model_selection import GridSearchCV\n",
    "\n",
    "# 1) สร้างโมเดล XGBoost with GridSearchCV for Hyperparameter Tuning\n",
    "print(\"Training XGBoost with GridSearchCV...\")\n",
    "\n",
    "# Define parameter grid for hyperparameter tuning (reduced for faster execution)\n",
    "param_grid = {\n",
    "    'n_estimators': [100, 300, 500],\n",
    "    'learning_rate': [0.05, 0.1, 0.2],\n",
    "    'max_depth': [3, 6, 9],\n",
    "    'subsample': [0.8, 1.0],\n",
    "    'colsample_bytree': [0.8, 1.0],\n",
    "    'reg_alpha': [0, 0.1],\n",
    "    'reg_lambda': [0, 0.1],\n",
    "    'random_state': [42]\n",
    "}\n",
    "\n",
    "# Create base XGBoost model\n",
    "xgb_base = XGBRegressor(\n",
    "    objective='reg:squarederror',\n",
    "    eval_metric='rmse',\n",
    "    tree_method='hist',  # Use CPU for compatibility\n",
    "    n_jobs=-1  # Use all CPU cores\n",
    ")\n",
    "\n",
    "# Create GridSearchCV\n",
    "print(\"Starting GridSearchCV...\")\n",
    "grid_search = GridSearchCV(\n",
    "    estimator=xgb_base,\n",
    "    param_grid=param_grid,\n",
    "    cv=3,  # 3-fold cross-validation\n",
    "    scoring='neg_mean_squared_error',  # Use RMSE for scoring\n",
    "    n_jobs=-1,  # Use all available cores\n",
    "    verbose=1  # Show progress\n",
    ")\n",
    "\n",
    "# Fit GridSearchCV - FIXED: No invalid parameters\n",
    "grid_search.fit(X_train, y_train)\n",
    "\n",
    "# Get the best model\n",
    "booster = grid_search.best_estimator_\n",
    "\n",
    "print(f\"Best parameters: {grid_search.best_params_}\")\n",
    "print(f\"Best cross-validation score: {-grid_search.best_score_:.4f}\")\n",
    "print(\"Best iteration:\", getattr(booster, 'best_iteration', 'N/A'), \"| Best RMSE:\", getattr(booster, 'best_score', 'N/A'))\n",
    "\n",
    "# 4) พยากรณ์ (ใช้โมเดลที่ดีที่สุดจาก GridSearchCV)\n",
    "ytr_pred = booster.predict(X_train)\n",
    "yte_pred = booster.predict(X_test)\n",
    "\n",
    "# 5) ฟังก์ชันเมตริก (compat ทุกเวอร์ชัน sklearn)\n",
    "def eval_reg(y_true, y_pred):\n",
    "    yt = np.asarray(y_true).ravel()\n",
    "    yp = np.asarray(y_pred).ravel()\n",
    "    mae  = mean_absolute_error(yt, yp)\n",
    "    rmse = np.sqrt(mean_squared_error(yt, yp))   # sqrt(MSE) → RMSE\n",
    "    r2   = r2_score(yt, yp)\n",
    "    return mae, rmse, r2\n",
    "\n",
    "# คำนวณ\n",
    "mae_tr, rmse_tr, r2_tr = eval_reg(y_train, ytr_pred)\n",
    "mae_te, rmse_te, r2_te = eval_reg(y_test,  yte_pred)\n",
    "\n",
    "print(\"=== XGBoost (train API) — Train ===\")\n",
    "print(f\"MAE : {mae_tr:.4f} Baht\")\n",
    "print(f\"RMSE: {rmse_tr:.4f} Baht\")\n",
    "print(f\"R^2 : {r2_tr:.4f}\")\n",
    "\n",
    "print(\"\\n=== XGBoost (train API) — Test ===\")\n",
    "print(f\"MAE : {mae_te:.4f} Baht\")\n",
    "print(f\"RMSE: {rmse_te:.4f} Baht\")\n",
    "print(f\"R^2 : {r2_te:.4f}\")\n",
    "\n",
    "# 6) Feature importance (gain) - แปลงเป็น percentage\n",
    "score_dict = booster.get_booster().get_score(importance_type=\"gain\")\n",
    "fi = (\n",
    "    pd.DataFrame({\"Feature\": list(score_dict.keys()), \"Importance\": list(score_dict.values())})\n",
    "    .sort_values(\"Importance\", ascending=False)\n",
    "    .reset_index(drop=True)\n",
    ")\n",
    "\n",
    "# แปลง importance เป็น percentage (0-100%)\n",
    "total_importance = fi['Importance'].sum()\n",
    "fi['Importance_Percent'] = (fi['Importance'] / total_importance * 100).round(2)\n",
    "\n",
    "print(\"\\nTop 10 Most Important Features (Gain-based):\")\n",
    "print(fi[['Feature', 'Importance', 'Importance_Percent']].head(10))\n",
    "\n",
    "# แสดงสถิติ\n",
    "print(f\"\\nFeature Importance Statistics:\")\n",
    "print(f\"Total Importance: {total_importance:.2f}\")\n",
    "print(f\"Max Importance: {fi['Importance'].max():.2f}\")\n",
    "print(f\"Min Importance: {fi['Importance'].min():.2f}\")\n",
    "print(f\"Mean Importance: {fi['Importance'].mean():.2f}\")\n",
    "print(f\"Number of features with importance > 0: {(fi['Importance'] > 0).sum()}\")\n"
   ],
   "outputs": [
    {
     "name": "stdout",
     "output_type": "stream",
     "text": [
      "Training XGBoost with GridSearchCV...\n",
      "Starting GridSearchCV...\n",
      "Fitting 3 folds for each of 432 candidates, totalling 1296 fits\n",
      "Best parameters: {'colsample_bytree': 1.0, 'learning_rate': 0.1, 'max_depth': 9, 'n_estimators': 100, 'random_state': 42, 'reg_alpha': 0, 'reg_lambda': 0, 'subsample': 1.0}\n",
      "Best cross-validation score: 127.8215\n",
      "Best iteration: N/A | Best RMSE: N/A\n",
      "=== XGBoost (train API) — Train ===\n",
      "MAE : 0.3816 Baht\n",
      "RMSE: 0.5417 Baht\n",
      "R^2 : 0.9993\n",
      "\n",
      "=== XGBoost (train API) — Test ===\n",
      "MAE : 2.0689 Baht\n",
      "RMSE: 3.4893 Baht\n",
      "R^2 : 0.9722\n",
      "\n",
      "Top 10 Most Important Features (Gain-based):\n",
      "                               Feature   Importance  Importance_Percent\n",
      "0  Country_RA-REPUBLIC OF SOUTH AFRICA  1244.311768               36.07\n",
      "1            Average_Price_Baht_lag_12  1028.764282               29.82\n",
      "2             Average_Price_Baht_lag_1   980.486633               28.42\n",
      "3                 Country_HK-HONG KONG    33.612389                0.97\n",
      "4             Average_Price_Baht_lag_2    16.404736                0.48\n",
      "5                 Country_AU-AUSTRALIA    10.381787                0.30\n",
      "6                     Item_1034-ULG 95     9.175187                0.27\n",
      "7                    Country_FR-FRANCE     8.066536                0.23\n",
      "8                 Country_SG-SINGAPORE     6.420365                0.19\n",
      "9               Country_PH-PHILIPPINES     6.191496                0.18\n",
      "\n",
      "Feature Importance Statistics:\n",
      "Total Importance: 3449.96\n",
      "Max Importance: 1244.31\n",
      "Min Importance: 0.95\n",
      "Mean Importance: 98.57\n",
      "Number of features with importance > 0: 35\n"
     ]
    }
   ],
   "execution_count": 81
  },
  {
   "cell_type": "code",
   "id": "60a53d30",
   "metadata": {
    "ExecuteTime": {
     "end_time": "2025-10-03T10:38:06.317531Z",
     "start_time": "2025-10-03T10:38:06.256264Z"
    }
   },
   "source": [
    "# Display detailed GridSearchCV results\n",
    "print(\"\\n=== GridSearchCV Detailed Results ===\")\n",
    "print(f\"Total parameter combinations tested: {len(grid_search.cv_results_['params'])}\")\n",
    "print(f\"Cross-validation strategy: {grid_search.cv} folds\")\n",
    "\n",
    "# Show top 5 parameter combinations\n",
    "results_df = pd.DataFrame(grid_search.cv_results_)\n",
    "top_results = results_df.nlargest(5, 'mean_test_score')[['params', 'mean_test_score', 'std_test_score']]\n",
    "\n",
    "print(f\"\\nTop 5 Parameter Combinations:\")\n",
    "for i, (idx, row) in enumerate(top_results.iterrows(), 1):\n",
    "    print(f\"{i}. Score: {-row['mean_test_score']:.4f} (±{row['std_test_score']:.4f})\")\n",
    "    print(f\"   Parameters: {row['params']}\")\n",
    "\n",
    "# Visualize parameter importance\n",
    "print(f\"\\nParameter Analysis:\")\n",
    "for param in param_grid.keys():\n",
    "    if param != 'random_state':  # Skip random_state as it's constant\n",
    "        param_values = [result['params'][param] for result in grid_search.cv_results_['params']]\n",
    "        param_scores = [-score for score in grid_search.cv_results_['mean_test_score']]\n",
    "        \n",
    "        # Create a simple analysis\n",
    "        param_df = pd.DataFrame({'param_value': param_values, 'score': param_scores})\n",
    "        param_summary = param_df.groupby('param_value')['score'].agg(['mean', 'std']).reset_index()\n",
    "        param_summary = param_summary.sort_values('mean', ascending=False)\n",
    "        \n",
    "        print(f\"\\n{param}:\")\n",
    "        for _, row in param_summary.iterrows():\n",
    "            print(f\"  {row['param_value']}: {row['mean']:.4f} (±{row['std']:.4f})\")\n",
    "\n",
    "print(f\"\\n✅ GridSearchCV optimization completed!\")\n",
    "print(f\"Best model saved with parameters: {grid_search.best_params_}\")\n"
   ],
   "outputs": [
    {
     "name": "stdout",
     "output_type": "stream",
     "text": [
      "\n",
      "=== GridSearchCV Detailed Results ===\n",
      "Total parameter combinations tested: 432\n",
      "Cross-validation strategy: 3 folds\n",
      "\n",
      "Top 5 Parameter Combinations:\n",
      "1. Score: 127.8215 (±165.2374)\n",
      "   Parameters: {'colsample_bytree': 1.0, 'learning_rate': 0.1, 'max_depth': 9, 'n_estimators': 100, 'random_state': 42, 'reg_alpha': 0, 'reg_lambda': 0, 'subsample': 1.0}\n",
      "2. Score: 127.8495 (±165.2025)\n",
      "   Parameters: {'colsample_bytree': 1.0, 'learning_rate': 0.1, 'max_depth': 9, 'n_estimators': 300, 'random_state': 42, 'reg_alpha': 0, 'reg_lambda': 0, 'subsample': 1.0}\n",
      "3. Score: 127.8541 (±165.1996)\n",
      "   Parameters: {'colsample_bytree': 1.0, 'learning_rate': 0.1, 'max_depth': 9, 'n_estimators': 500, 'random_state': 42, 'reg_alpha': 0, 'reg_lambda': 0, 'subsample': 1.0}\n",
      "4. Score: 127.8681 (±164.8044)\n",
      "   Parameters: {'colsample_bytree': 1.0, 'learning_rate': 0.05, 'max_depth': 9, 'n_estimators': 500, 'random_state': 42, 'reg_alpha': 0.1, 'reg_lambda': 0, 'subsample': 1.0}\n",
      "5. Score: 127.8808 (±164.8629)\n",
      "   Parameters: {'colsample_bytree': 1.0, 'learning_rate': 0.05, 'max_depth': 9, 'n_estimators': 300, 'random_state': 42, 'reg_alpha': 0.1, 'reg_lambda': 0, 'subsample': 1.0}\n",
      "\n",
      "Parameter Analysis:\n"
     ]
    },
    {
     "ename": "KeyError",
     "evalue": "'params'",
     "output_type": "error",
     "traceback": [
      "\u001B[31m---------------------------------------------------------------------------\u001B[39m",
      "\u001B[31mKeyError\u001B[39m                                  Traceback (most recent call last)",
      "\u001B[36mCell\u001B[39m\u001B[36m \u001B[39m\u001B[32mIn[82]\u001B[39m\u001B[32m, line 19\u001B[39m\n\u001B[32m     17\u001B[39m \u001B[38;5;28;01mfor\u001B[39;00m param \u001B[38;5;129;01min\u001B[39;00m param_grid.keys():\n\u001B[32m     18\u001B[39m     \u001B[38;5;28;01mif\u001B[39;00m param != \u001B[33m'\u001B[39m\u001B[33mrandom_state\u001B[39m\u001B[33m'\u001B[39m:  \u001B[38;5;66;03m# Skip random_state as it's constant\u001B[39;00m\n\u001B[32m---> \u001B[39m\u001B[32m19\u001B[39m         param_values = [\u001B[43mresult\u001B[49m\u001B[43m[\u001B[49m\u001B[33;43m'\u001B[39;49m\u001B[33;43mparams\u001B[39;49m\u001B[33;43m'\u001B[39;49m\u001B[43m]\u001B[49m[param] \u001B[38;5;28;01mfor\u001B[39;00m result \u001B[38;5;129;01min\u001B[39;00m grid_search.cv_results_[\u001B[33m'\u001B[39m\u001B[33mparams\u001B[39m\u001B[33m'\u001B[39m]]\n\u001B[32m     20\u001B[39m         param_scores = [-score \u001B[38;5;28;01mfor\u001B[39;00m score \u001B[38;5;129;01min\u001B[39;00m grid_search.cv_results_[\u001B[33m'\u001B[39m\u001B[33mmean_test_score\u001B[39m\u001B[33m'\u001B[39m]]\n\u001B[32m     22\u001B[39m         \u001B[38;5;66;03m# Create a simple analysis\u001B[39;00m\n",
      "\u001B[31mKeyError\u001B[39m: 'params'"
     ]
    }
   ],
   "execution_count": 82
  },
  {
   "cell_type": "code",
   "execution_count": null,
   "id": "e420338f",
   "metadata": {},
   "outputs": [],
   "source": [
    "# เปรียบเทียบ Feature Importance แบบต่างๆ\n",
    "print(\"\\n=== เปรียบเทียบ Feature Importance แบบต่างๆ ===\")\n",
    "\n",
    "# 1) Gain-based importance (default XGBoost)\n",
    "gain_importance = booster.get_booster().get_score(importance_type=\"gain\")\n",
    "fi_gain = pd.DataFrame({\n",
    "    \"Feature\": list(gain_importance.keys()), \n",
    "    \"Gain_Importance\": list(gain_importance.values())\n",
    "}).sort_values(\"Gain_Importance\", ascending=False)\n",
    "\n",
    "# 2) Weight-based importance (จำนวนครั้งที่ใช้ split)\n",
    "weight_importance = booster.get_booster().get_score(importance_type=\"weight\")\n",
    "fi_weight = pd.DataFrame({\n",
    "    \"Feature\": list(weight_importance.keys()), \n",
    "    \"Weight_Importance\": list(weight_importance.values())\n",
    "}).sort_values(\"Weight_Importance\", ascending=False)\n",
    "\n",
    "# 3) Cover-based importance (จำนวนข้อมูลที่ cover)\n",
    "cover_importance = booster.get_booster().get_score(importance_type=\"cover\")\n",
    "fi_cover = pd.DataFrame({\n",
    "    \"Feature\": list(cover_importance.keys()), \n",
    "    \"Cover_Importance\": list(cover_importance.values())\n",
    "}).sort_values(\"Cover_Importance\", ascending=False)\n",
    "\n",
    "# รวมข้อมูล\n",
    "fi_comparison = fi_gain.merge(fi_weight, on=\"Feature\", how=\"outer\").merge(fi_cover, on=\"Feature\", how=\"outer\")\n",
    "fi_comparison = fi_comparison.fillna(0)\n",
    "\n",
    "# แปลงเป็น percentage\n",
    "for col in ['Gain_Importance', 'Weight_Importance', 'Cover_Importance']:\n",
    "    total = fi_comparison[col].sum()\n",
    "    if total > 0:\n",
    "        fi_comparison[f'{col}_Percent'] = (fi_comparison[col] / total * 100).round(2)\n",
    "    else:\n",
    "        fi_comparison[f'{col}_Percent'] = 0\n",
    "\n",
    "print(\"\\nTop 10 Features - เปรียบเทียบ 3 แบบ:\")\n",
    "print(fi_comparison[['Feature', 'Gain_Importance_Percent', 'Weight_Importance_Percent', 'Cover_Importance_Percent']].head(10))\n",
    "\n",
    "print(f\"\\nอธิบายความแตกต่าง:\")\n",
    "print(f\"• Gain Importance: วัดการลดลงของ loss (ค่าสูง = ลด loss ได้มาก)\")\n",
    "print(f\"• Weight Importance: วัดจำนวนครั้งที่ใช้ split (ค่าสูง = ใช้บ่อย)\")\n",
    "print(f\"• Cover Importance: วัดจำนวนข้อมูลที่ cover (ค่าสูง = cover ข้อมูลมาก)\")\n"
   ]
  },
  {
   "cell_type": "code",
   "execution_count": null,
   "id": "389e1092",
   "metadata": {},
   "outputs": [],
   "source": [
    "# Display detailed GridSearchCV results\n",
    "print(\"\\n=== GridSearchCV Detailed Results ===\")\n",
    "print(f\"Total parameter combinations tested: {len(grid_search.cv_results_['params'])}\")\n",
    "print(f\"Cross-validation strategy: {grid_search.cv} folds\")\n",
    "\n",
    "# Show top 5 parameter combinations\n",
    "results_df = pd.DataFrame(grid_search.cv_results_)\n",
    "top_results = results_df.nlargest(5, 'mean_test_score')[['params', 'mean_test_score', 'std_test_score']]\n",
    "\n",
    "print(f\"\\nTop 5 Parameter Combinations:\")\n",
    "for i, (idx, row) in enumerate(top_results.iterrows(), 1):\n",
    "    print(f\"{i}. Score: {-row['mean_test_score']:.4f} (±{row['std_test_score']:.4f})\")\n",
    "    print(f\"   Parameters: {row['params']}\")\n",
    "\n",
    "# Visualize parameter importance\n",
    "print(f\"\\nParameter Analysis:\")\n",
    "for param in param_grid.keys():\n",
    "    if param != 'random_state':  # Skip random_state as it's constant\n",
    "        param_values = [result['params'][param] for result in grid_search.cv_results_['params']]\n",
    "        param_scores = [-score for score in grid_search.cv_results_['mean_test_score']]\n",
    "        \n",
    "        # Create a simple analysis\n",
    "        param_df = pd.DataFrame({'param_value': param_values, 'score': param_scores})\n",
    "        param_summary = param_df.groupby('param_value')['score'].agg(['mean', 'std']).reset_index()\n",
    "        param_summary = param_summary.sort_values('mean', ascending=False)\n",
    "        \n",
    "        print(f\"\\n{param}:\")\n",
    "        for _, row in param_summary.iterrows():\n",
    "            print(f\"  {row['param_value']}: {row['mean']:.4f} (±{row['std']:.4f})\")\n",
    "\n",
    "print(f\"\\n✅ GridSearchCV optimization completed!\")\n",
    "print(f\"Best model saved with parameters: {grid_search.best_params_}\")\n"
   ]
  },
  {
   "cell_type": "code",
   "execution_count": null,
   "id": "d89acef1",
   "metadata": {},
   "outputs": [],
   "source": [
    "# Display detailed GridSearchCV results\n",
    "print(\"\\n=== GridSearchCV Detailed Results ===\")\n",
    "print(f\"Total parameter combinations tested: {len(grid_search.cv_results_['params'])}\")\n",
    "print(f\"Cross-validation strategy: {grid_search.cv} folds\")\n",
    "\n",
    "# Show top 5 parameter combinations\n",
    "results_df = pd.DataFrame(grid_search.cv_results_)\n",
    "top_results = results_df.nlargest(5, 'mean_test_score')[['params', 'mean_test_score', 'std_test_score']]\n",
    "\n",
    "print(f\"\\nTop 5 Parameter Combinations:\")\n",
    "for i, (idx, row) in enumerate(top_results.iterrows(), 1):\n",
    "    print(f\"{i}. Score: {-row['mean_test_score']:.4f} (±{row['std_test_score']:.4f})\")\n",
    "    print(f\"   Parameters: {row['params']}\")\n",
    "\n",
    "# Visualize parameter importance\n",
    "print(f\"\\nParameter Analysis:\")\n",
    "for param in param_grid.keys():\n",
    "    if param != 'random_state':  # Skip random_state as it's constant\n",
    "        param_values = [result['params'][param] for result in grid_search.cv_results_['params']]\n",
    "        param_scores = [-score for score in grid_search.cv_results_['mean_test_score']]\n",
    "        \n",
    "        # Create a simple analysis\n",
    "        param_df = pd.DataFrame({'param_value': param_values, 'score': param_scores})\n",
    "        param_summary = param_df.groupby('param_value')['score'].agg(['mean', 'std']).reset_index()\n",
    "        param_summary = param_summary.sort_values('mean', ascending=False)\n",
    "        \n",
    "        print(f\"\\n{param}:\")\n",
    "        for _, row in param_summary.iterrows():\n",
    "            print(f\"  {row['param_value']}: {row['mean']:.4f} (±{row['std']:.4f})\")\n",
    "\n",
    "print(f\"\\n✅ GridSearchCV optimization completed!\")\n",
    "print(f\"Best model saved with parameters: {grid_search.best_params_}\")\n"
   ]
  },
  {
   "cell_type": "markdown",
   "id": "3d678664ec395621",
   "metadata": {},
   "source": [
    "Visualization: Actual vs Predicted / Residuals / Feature Importance (Top 10)"
   ]
  },
  {
   "cell_type": "code",
   "execution_count": 24,
   "id": "18fdfa4c28b1ffee",
   "metadata": {
    "ExecuteTime": {
     "end_time": "2025-10-03T10:38:06.345873700Z",
     "start_time": "2025-10-02T13:42:35.171773Z"
    }
   },
   "outputs": [
    {
     "data": {
      "image/png": "[encoded data removed]",
      "text/plain": [
       "<Figure size 1800x500 with 3 Axes>"
      ]
     },
     "metadata": {},
     "output_type": "display_data"
    }
   ],
   "source": [
    "# %%\n",
    "import matplotlib.pyplot as plt\n",
    "\n",
    "fig, axes = plt.subplots(1, 3, figsize=(18, 5))\n",
    "\n",
    "# 1) Actual vs Predicted (Test)\n",
    "axes[0].scatter(y_test, yte_pred, alpha=0.6)\n",
    "mn, mx = float(np.min(y_test)), float(np.max(y_test))\n",
    "axes[0].plot([mn, mx], [mn, mx], 'r--', lw=2)\n",
    "axes[0].set_xlabel('Actual Price (Baht)')\n",
    "axes[0].set_ylabel('Predicted Price (Baht)')\n",
    "axes[0].set_title('Actual vs Predicted (Test)')\n",
    "axes[0].grid(True, alpha=0.3)\n",
    "\n",
    "# 2) Residuals (Test)\n",
    "resid = y_test - yte_pred\n",
    "axes[1].scatter(yte_pred, resid, alpha=0.6)\n",
    "axes[1].axhline(y=0, color='r', linestyle='--')\n",
    "axes[1].set_xlabel('Predicted Price (Baht)')\n",
    "axes[1].set_ylabel('Residuals (Baht)')\n",
    "axes[1].set_title('Residuals Plot (Test)')\n",
    "axes[1].grid(True, alpha=0.3)\n",
    "\n",
    "# 3) Top-10 Feature Importance\n",
    "topk = fi.head(10).iloc[::-1]  # พลิกให้สำคัญสุดอยู่บน\n",
    "axes[2].barh(topk[\"Feature\"], topk[\"Importance\"])\n",
    "axes[2].set_xlabel('Gain Importance')\n",
    "axes[2].set_title('Top 10 Feature Importance')\n",
    "axes[2].grid(True, alpha=0.3)\n",
    "\n",
    "plt.tight_layout()\n",
    "plt.show()\n"
   ]
  },
  {
   "cell_type": "code",
   "execution_count": 26,
   "id": "c05920fd7086ab4e",
   "metadata": {
    "ExecuteTime": {
     "end_time": "2025-10-03T10:38:06.349383300Z",
     "start_time": "2025-10-02T13:56:37.700036Z"
    }
   },
   "outputs": [
    {
     "name": "stdout",
     "output_type": "stream",
     "text": [
      "[OK] Saved booster (pickle): Deploy/XGBoots\\oil_price_xgboost_model.pkl\n",
      "[OK] Saved feature columns: Deploy/XGBoots\\feature_columns.pkl\n",
      "[OK] Saved preprocessing info: Deploy/XGBoots\\preprocessing_info.pkl\n",
      "[OK] Saved model metrics: Deploy/XGBoots\\model_metrics.pkl\n",
      "[OK] Saved runtime_config.json\n",
      "\n",
      "=== Model Deployment Summary (pickle) ===\n",
      "Best iteration : 63\n",
      "Train R²       : 0.9673\n",
      "Test  R²       : 0.9672\n",
      "Test  MAE      : 2.1570 Baht\n",
      "Test  RMSE     : 3.7927 Baht\n",
      "Artifacts in 'Deploy/XGBoots':\n",
      "  - feature_columns.pkl\n",
      "  - model_metrics.pkl\n",
      "  - oil_price_xgboost_model.pkl\n",
      "  - preprocessing_info.pkl\n",
      "  - runtime_config.json\n"
     ]
    }
   ],
   "source": [
    "# %% [markdown]\n",
    "# ## Save & Load (pickle) + Predict helper for XGBoost (booster)\n",
    "# - เซฟโมเดล (booster) เป็น .pkl ด้วย joblib\n",
    "# - เซฟรายชื่อฟีเจอร์ / ข้อมูลพรีโปรเซส / เมตริก / runtime config\n",
    "# - ฟังก์ชันพยากรณ์: โหลดโมเดลจาก .pkl → สร้าง DMatrix → predict ด้วย best_iteration\n",
    "\n",
    "# %%\n",
    "import os, json\n",
    "import joblib\n",
    "import numpy as np\n",
    "import pandas as pd\n",
    "import xgboost as xgb\n",
    "\n",
    "# ====== 0) ตรวจว่ามีตัวแปรจากขั้นตอนเทรนแล้วหรือยัง ======\n",
    "required_vars = [\n",
    "    \"booster\",          # xgboost.Booster จาก xgb.train(...)\n",
    "    \"X_train\", \"y_train\", \"X_test\", \"y_test\",\n",
    "    \"feature_cols\",     # รายชื่อคอลัมน์ฟีเจอร์ตอนเทรน\n",
    "    \"month_mapping\",    # dict แปลงชื่อเดือน -> เลข\n",
    "    \"target_col\", \"exclude_cols\",\n",
    "    \"monthly_data\",     # ใช้ดึงรายชื่อประเทศ/ไอเท็มที่มีใน data\n",
    "    \"mae_tr\", \"rmse_tr\", \"r2_tr\",\n",
    "    \"mae_te\", \"rmse_te\", \"r2_te\",\n",
    "    \"used_gpu\"          # flag True/False ตอนเทรน\n",
    "]\n",
    "missing = [v for v in required_vars if v not in globals()]\n",
    "assert not missing, f\"ขาดตัวแปรก่อนเซฟ: {missing}\"\n",
    "\n",
    "# ====== 1) โฟลเดอร์ปลายทาง ======\n",
    "SAVE_DIR = \"Deploy/XGBoots\"\n",
    "os.makedirs(SAVE_DIR, exist_ok=True)\n",
    "\n",
    "# ====== 2) เซฟโมเดลเป็น pickle (.pkl) ======\n",
    "model_pkl_path = os.path.join(SAVE_DIR, \"oil_price_xgboost_model.pkl\")\n",
    "joblib.dump(booster, model_pkl_path)\n",
    "print(f\"[OK] Saved booster (pickle): {model_pkl_path}\")\n",
    "\n",
    "# ====== 3) เซฟรายชื่อฟีเจอร์ ======\n",
    "feature_cols_path = os.path.join(SAVE_DIR, \"feature_columns.pkl\")\n",
    "joblib.dump(feature_cols, feature_cols_path)\n",
    "print(f\"[OK] Saved feature columns: {feature_cols_path}\")\n",
    "\n",
    "# ====== 4) เซฟ preprocessing info ======\n",
    "preprocessing_info = {\n",
    "    \"month_mapping\": month_mapping,\n",
    "    \"target_column\": target_col,\n",
    "    \"exclude_columns\": exclude_cols,\n",
    "    \"lag_periods\": [1, 2, 3, 6, 12],\n",
    "    \"rolling_windows\": [3, 6, 12],\n",
    "    \"countries_included\": sorted(monthly_data[\"Country\"].unique().tolist()),\n",
    "    \"items_included\": sorted(monthly_data[\"Item\"].unique().tolist()),\n",
    "    \"train_test_split\": {\"type\": \"global_time_cutoff_quantile\", \"quantile\": 0.80}\n",
    "}\n",
    "prep_path = os.path.join(SAVE_DIR, \"preprocessing_info.pkl\")\n",
    "joblib.dump(preprocessing_info, prep_path)\n",
    "print(f\"[OK] Saved preprocessing info: {prep_path}\")\n",
    "\n",
    "# ====== 5) เซฟเมตริกและ Feature Importance (ถ้ามีตัวแปร 'fi') ======\n",
    "try:\n",
    "    top_fi = fi.head(10).to_dict(\"records\")\n",
    "except Exception:\n",
    "    top_fi = []  # เผื่อยังไม่ได้สร้าง DataFrame fi\n",
    "\n",
    "model_metrics = {\n",
    "    \"training\": {\"mae\": float(mae_tr), \"rmse\": float(rmse_tr), \"r2\": float(r2_tr)},\n",
    "    \"test\":     {\"mae\": float(mae_te), \"rmse\": float(rmse_te), \"r2\": float(r2_te)},\n",
    "    \"best_iteration\": int(getattr(booster, \"best_iteration\", 0)),\n",
    "    \"feature_importance_top10\": top_fi\n",
    "}\n",
    "metrics_path = os.path.join(SAVE_DIR, \"model_metrics.pkl\")\n",
    "joblib.dump(model_metrics, metrics_path)\n",
    "print(f\"[OK] Saved model metrics: {metrics_path}\")\n",
    "\n",
    "# ====== 6) runtime config (ไว้ให้แอปโหลดง่าย) ======\n",
    "runtime_config = {\n",
    "    \"model_path\": os.path.basename(model_pkl_path),\n",
    "    \"feature_cols_path\": os.path.basename(feature_cols_path),\n",
    "    \"preprocessing_info_path\": os.path.basename(prep_path),\n",
    "    \"metrics_path\": os.path.basename(metrics_path),\n",
    "    \"used_gpu\": bool(used_gpu),\n",
    "}\n",
    "with open(os.path.join(SAVE_DIR, \"runtime_config.json\"), \"w\", encoding=\"utf-8\") as f:\n",
    "    json.dump(runtime_config, f, ensure_ascii=False, indent=2)\n",
    "print(f\"[OK] Saved runtime_config.json\")\n",
    "\n",
    "# ====== 7) ฟังก์ชันสำหรับพยากรณ์จากไฟล์ .pkl ======\n",
    "def load_booster_from_pickle(model_path: str) -> xgb.Booster:\n",
    "    \"\"\"โหลด xgboost.Booster ที่เซฟด้วย joblib/pickle\"\"\"\n",
    "    bst = joblib.load(model_path)\n",
    "    if not isinstance(bst, xgb.Booster):\n",
    "        raise TypeError(f\"ไฟล์ '{model_path}' ไม่ใช่ xgboost.Booster\")\n",
    "    return bst\n",
    "\n",
    "def predict_oil_price_xgb_pickle(\n",
    "    features_dict: dict,\n",
    "    model_path: str = model_pkl_path,\n",
    "    feature_cols_path: str = feature_cols_path,\n",
    "    best_itr: int | None = None\n",
    ") -> float | None:\n",
    "    \"\"\"\n",
    "    พยากรณ์ราคาน้ำมัน (บาท) ด้วยโมเดล XGBoost ที่เซฟเป็น .pkl\n",
    "\n",
    "    Parameters\n",
    "    ----------\n",
    "    features_dict : dict\n",
    "        key = ชื่อฟีเจอร์, value = ค่าตัวเลข (รวม one-hot เช่น 'Country_THAILAND':1)\n",
    "    model_path : str\n",
    "        path ไปยัง .pkl (booster)\n",
    "    feature_cols_path : str\n",
    "        path ไปยัง .pkl รายชื่อคอลัมน์ฟีเจอร์\n",
    "    best_itr : int | None\n",
    "        ถ้า None จะพยายามอ่านจาก booster.best_iteration; ถ้าไม่มีจะ predict ทั้งโมเดล\n",
    "\n",
    "    Returns\n",
    "    -------\n",
    "    float | None\n",
    "    \"\"\"\n",
    "    try:\n",
    "        # โหลดโมเดลและรายชื่อคอลัมน์\n",
    "        bst = load_booster_from_pickle(model_path)\n",
    "        feat_cols = joblib.load(feature_cols_path)\n",
    "\n",
    "        # สร้าง DataFrame 1 แถว และเติมคอลัมน์ที่ขาดด้วย 0\n",
    "        df_in = pd.DataFrame([features_dict])\n",
    "        for col in feat_cols:\n",
    "            if col not in df_in.columns:\n",
    "                df_in[col] = 0.0\n",
    "        df_in = df_in[feat_cols]\n",
    "\n",
    "        # สร้าง DMatrix พร้อมชื่อคอลัมน์เดิม\n",
    "        dmat = xgb.DMatrix(df_in, feature_names=list(df_in.columns))\n",
    "\n",
    "        # เลือก iteration ที่ใช้\n",
    "        if best_itr is None:\n",
    "            best_itr = int(getattr(bst, \"best_iteration\", 0)) or None\n",
    "\n",
    "        if best_itr is not None and best_itr > 0:\n",
    "            pred = bst.predict(dmat, iteration_range=(0, best_itr + 1))\n",
    "        else:\n",
    "            pred = bst.predict(dmat)\n",
    "\n",
    "        return float(pred[0])\n",
    "\n",
    "    except Exception as e:\n",
    "        print(f\"[predict_oil_price_xgb_pickle] Error: {e}\")\n",
    "        try:\n",
    "            print(f\"Provided keys: {sorted(list(features_dict.keys()))[:12]} ...\")\n",
    "        except Exception:\n",
    "            pass\n",
    "        return None\n",
    "\n",
    "print(\"\\n=== Model Deployment Summary (pickle) ===\")\n",
    "print(f\"Best iteration : {model_metrics['best_iteration']}\")\n",
    "print(f\"Train R²       : {model_metrics['training']['r2']:.4f}\")\n",
    "print(f\"Test  R²       : {model_metrics['test']['r2']:.4f}\")\n",
    "print(f\"Test  MAE      : {model_metrics['test']['mae']:.4f} Baht\")\n",
    "print(f\"Test  RMSE     : {model_metrics['test']['rmse']:.4f} Baht\")\n",
    "print(f\"Artifacts in '{SAVE_DIR}':\")\n",
    "for fn in sorted(os.listdir(SAVE_DIR)):\n",
    "    print(\"  -\", fn)\n",
    "\n",
    "# ตัวอย่างการใช้งาน:\n",
    "# features = {...}  # dict ของฟีเจอร์ (เติม one-hot ที่จำเป็น)\n",
    "# price = predict_oil_price_xgb_pickle(features)\n",
    "# print(\"Predicted price:\", price)\n"
   ]
  }
 ],
 "metadata": {
  "kernelspec": {
   "display_name": "Python 3",
   "language": "python",
   "name": "python3"
  },
  "language_info": {
   "codemirror_mode": {
    "name": "ipython",
    "version": 2
   },
   "file_extension": ".py",
   "mimetype": "text/x-python",
   "name": "python",
   "nbconvert_exporter": "python",
   "pygments_lexer": "ipython2",
   "version": "2.7.6"
  }
 },
 "nbformat": 4,
 "nbformat_minor": 5
}
